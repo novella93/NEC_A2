{
 "cells": [
  {
   "cell_type": "code",
   "execution_count": 14,
   "metadata": {},
   "outputs": [],
   "source": [
    "class GeneticOptimizatorJSSP:\n",
    "    # CONSTRUCTOR\n",
    "    def __init__(self):\n",
    "        self.jobs = []\n",
    "        self.solutions = []\n",
    "\n",
    "    # GET/SET JOBS\n",
    "    def get_jobs(self):\n",
    "        return self.jobs\n",
    "    def set_jobs_from_string(self, jobs):\n",
    "        _jobs = []\n",
    "        for line in jobs.strip().split('\\n'):\n",
    "            tokens = line.split()\n",
    "            _job = []\n",
    "            for idx in range(0, len(tokens), 2):\n",
    "                _job.append([tokens[idx], tokens[idx+1]])\n",
    "            _jobs.append(_job)\n",
    "        self.jobs = _jobs\n",
    "    def set_jobs_from_file(self, jobs):\n",
    "        _jobs = []\n",
    "        with open(jobs, 'r')  as file:\n",
    "            for line in file:\n",
    "                tokens = line.split()\n",
    "                _job = []\n",
    "                for idx in range(0, len(tokens), 2):\n",
    "                    _job.append([tokens[idx], tokens[idx+1]])\n",
    "                _jobs.append(_job)\n",
    "        self.jobs = _jobs"
   ]
  },
  {
   "cell_type": "code",
   "execution_count": 15,
   "metadata": {},
   "outputs": [
    {
     "name": "stdout",
     "output_type": "stream",
     "text": [
      "[[['0', '88'], ['1', '68']], [['1', '72'], ['0', '50']]]\n"
     ]
    }
   ],
   "source": [
    "# Create and instance of the genetic optimizator\n",
    "optimizator = GeneticOptimizatorJSSP()\n",
    "\n",
    "# Define the problem from a file\n",
    "optimizator.set_jobs_from_file('problem.txt')\n",
    "\n",
    "# Define the problme from a string\n",
    "# problem = \"\"\"\n",
    "# 0 88 1 68\n",
    "# 1 72 0 50\n",
    "# \"\"\"\n",
    "# optimizator.set_jobs_from_string(problem)\n",
    "\n",
    "# Print the problem to check that was imported properly\n",
    "print(optimizator.get_jobs())\n"
   ]
  }
 ],
 "metadata": {
  "kernelspec": {
   "display_name": "Python 3",
   "language": "python",
   "name": "python3"
  },
  "language_info": {
   "codemirror_mode": {
    "name": "ipython",
    "version": 3
   },
   "file_extension": ".py",
   "mimetype": "text/x-python",
   "name": "python",
   "nbconvert_exporter": "python",
   "pygments_lexer": "ipython3",
   "version": "3.13.0"
  }
 },
 "nbformat": 4,
 "nbformat_minor": 2
}
